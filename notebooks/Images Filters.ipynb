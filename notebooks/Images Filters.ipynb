{
 "cells": [
  {
   "cell_type": "code",
   "execution_count": 90,
   "metadata": {
    "collapsed": false
   },
   "outputs": [],
   "source": [
    "from PIL import Image\n",
    "\n",
    "flower = Image.open('images/default.jpg')\n",
    "cat1 = Image.open('images/cats/cat1.jpg')\n",
    "cat2 = Image.open('images/cats/cat2.jpg')\n",
    "xray = Image.open('images/xrays/lateral.png')\n",
    "\n",
    "def reset(img):\n",
    "    image = img.copy()\n",
    "    pixels = image.load()\n",
    "    return (image, pixels)\n",
    "\n",
    "x = y = 0\n",
    "R = G = B = 25"
   ]
  },
  {
   "cell_type": "code",
   "execution_count": null,
   "metadata": {
    "collapsed": false
   },
   "outputs": [],
   "source": [
    "image, pixels = reset(flower)\n",
    "\n",
    "# Filter code goes here\n",
    "pixels[x,y] = (R, G, B)\n",
    "\n",
    "\n",
    "\n",
    "# End filter code\n",
    "image"
   ]
  }
 ],
 "metadata": {
  "hide_input": false,
  "kernelspec": {
   "display_name": "Python 3",
   "language": "python",
   "name": "python3"
  },
  "language_info": {
   "codemirror_mode": {
    "name": "ipython",
    "version": 3
   },
   "file_extension": ".py",
   "mimetype": "text/x-python",
   "name": "python",
   "nbconvert_exporter": "python",
   "pygments_lexer": "ipython3",
   "version": "3.5.0"
  }
 },
 "nbformat": 4,
 "nbformat_minor": 0
}
