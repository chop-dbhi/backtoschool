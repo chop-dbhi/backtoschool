{
 "cells": [
  {
   "cell_type": "markdown",
   "metadata": {},
   "source": [
    "# Comments\n",
    "Any line in Python that starts with pound (#) sign will be ignored by the computer and can be used to comment on the surrounding code."
   ]
  },
  {
   "cell_type": "code",
   "execution_count": 1,
   "metadata": {
    "collapsed": true
   },
   "outputs": [],
   "source": [
    "# This is a comment. I can put anything I want here"
   ]
  },
  {
   "cell_type": "markdown",
   "metadata": {},
   "source": [
    "## Variables\n",
    "Variables are like containers that hold values.\n",
    "Values are things like numbers, words, lists of letters, etc.\n",
    " \n",
    "Lets look at numbers first."
   ]
  },
  {
   "cell_type": "code",
   "execution_count": null,
   "metadata": {
    "collapsed": true
   },
   "outputs": [],
   "source": [
    "# In Python, we can make a variable and give it a value pretty easily.\n",
    "# If we want a variable called 'foo' and want it to have a value of 1, we do:\n",
    "\n",
    "foo = 1\n",
    "\n",
    "# Or if we want to make foo a decimal, we do:\n",
    "\n",
    "foo = 1.5\n",
    "\n",
    "# with a period in the middle.\n",
    "\n",
    "# Create a variable called \"grade\" and put your current grade level in it\n"
   ]
  },
  {
   "cell_type": "markdown",
   "metadata": {},
   "source": [
    "### The print statement\n",
    "If we want to print the value of a variable, we can use the print() function. If we have a variable called `foo`\n",
    "    \n",
    "    print(foo)\n",
    "    \n",
    "Will print the value of `foo` to the screen."
   ]
  },
  {
   "cell_type": "code",
   "execution_count": 3,
   "metadata": {
    "collapsed": true
   },
   "outputs": [],
   "source": [
    "# Try printing the value of the \"grade\" variable you created above\n"
   ]
  },
  {
   "cell_type": "markdown",
   "metadata": {},
   "source": [
    "### Strings\n",
    "\n",
    "A variable in Python that contains a word is called a **string**"
   ]
  },
  {
   "cell_type": "code",
   "execution_count": null,
   "metadata": {
    "collapsed": true
   },
   "outputs": [],
   "source": [
    "# If we want our variable foo to be a word, we do this:\n",
    "\n",
    "foo = 'bar'\n",
    "\n",
    "# with single quotes around the word.\n",
    "\n",
    "# We can set variables equal to entire sentences.\n",
    "hello = 'Hello World!'\n",
    "print(hello)\n",
    "\n",
    "# Try creating a new variable called \"name\" and set it equal to your name\n"
   ]
  },
  {
   "cell_type": "markdown",
   "metadata": {},
   "source": [
    "## Operators\n",
    "\n",
    "We can perform different **operations** or calculations using variables"
   ]
  },
  {
   "cell_type": "code",
   "execution_count": 6,
   "metadata": {
    "collapsed": false
   },
   "outputs": [],
   "source": [
    "# For example if we have variables containing numbers:\n",
    "foo = 10.0\n",
    "bar = 5.0\n",
    "\n",
    "# we can add them:\n",
    "baz = foo + bar # baz equals 15.0\n",
    "\n",
    "# Or we can subtract them:\n",
    "baz = foo - bar     # baz equals 5.0\n",
    "\n",
    "# Or multiply them:\n",
    "baz = foo * bar     # baz equals 50.0\n",
    "\n",
    "# Or divide them\n",
    "baz = foo / bar     # baz equals 2.0\n",
    "\n",
    "# We can also add two strings together:\n",
    "foo = 'bar'\n",
    "baz = 'qux'\n",
    "norf = foo + baz    # norf equals 'barqux'"
   ]
  },
  {
   "cell_type": "markdown",
   "metadata": {},
   "source": [
    "In the above examples, + and - and / are called **operators**.\n",
    "\n",
    "Below create two new variables containing your first and last name "
   ]
  },
  {
   "cell_type": "code",
   "execution_count": null,
   "metadata": {
    "collapsed": true
   },
   "outputs": [],
   "source": [
    "# Put your two new variables here:\n",
    "\n",
    "\n",
    "\n",
    "# Then combine them into a new variable called \"full_name\" and print it.\n",
    "\n",
    "\n",
    "# Lastly, print out \"Hello World! My name is <YOUR FULL NAME>\"\n"
   ]
  },
  {
   "cell_type": "markdown",
   "metadata": {},
   "source": [
    "# If statements\n",
    "\n",
    "**If** statements help us make more complex programs by doing something only when something is *True*. \n",
    "\n",
    "\n",
    "An **if** statement is called a **conditional** statement because it will execute depending on a **condition**\n",
    "\n",
    "Set the variable below to your lunch period:"
   ]
  },
  {
   "cell_type": "code",
   "execution_count": null,
   "metadata": {
    "collapsed": true
   },
   "outputs": [],
   "source": [
    "lunch_period = 1\n",
    "\n",
    "if lunch_period < 3:    # if lunch_period is less than 3\n",
    "    print(\"That is practically breakfast!\")\n",
    "else: # if not, do something else\n",
    "    print(\"That's more like it.\")"
   ]
  },
  {
   "cell_type": "markdown",
   "metadata": {},
   "source": [
    "You can check for more than one **condition** using the **and** operator."
   ]
  },
  {
   "cell_type": "code",
   "execution_count": null,
   "metadata": {
    "collapsed": true
   },
   "outputs": [],
   "source": [
    "if lunch_period > 3 and lunch_period < 5:  \n",
    "    print(\"you eat lunch 4th period\")"
   ]
  },
  {
   "cell_type": "markdown",
   "metadata": {},
   "source": [
    "### Equals\n",
    "\n",
    "To test if a variable is equal to a value, use the **==** operator"
   ]
  },
  {
   "cell_type": "code",
   "execution_count": null,
   "metadata": {
    "collapsed": false
   },
   "outputs": [],
   "source": [
    "if lunch_period == 4:  \n",
    "    print(\"you eat lunch 4th period\")"
   ]
  },
  {
   "cell_type": "code",
   "execution_count": null,
   "metadata": {
    "collapsed": false
   },
   "outputs": [],
   "source": []
  },
  {
   "cell_type": "markdown",
   "metadata": {},
   "source": [
    "# Lists\n",
    "\n",
    "In Python, we can create lists of variables an values\n"
   ]
  },
  {
   "cell_type": "code",
   "execution_count": null,
   "metadata": {
    "collapsed": true
   },
   "outputs": [],
   "source": [
    "foo = [1,\"bar\",2,\"baz\",3]\n",
    "\n",
    "# with commas separating the values\n",
    "# You can even make a list of other lists:\n",
    "\n",
    "# We can also add two lists together:\n",
    "foo = [1,2,3]\n",
    "bar = ['foo', 'baz', 'qux']\n",
    "baz = foo + bar     # baz equals [1,2,3,'foo','baz','qux']\n",
    "\n",
    "foo = [[1,2],[3,4],[5,6]]\n"
   ]
  },
  {
   "cell_type": "markdown",
   "metadata": {},
   "source": [
    "## Loops\n",
    "\n",
    "\n",
    "Sometimes, we have a bunch of values we want to work with.\n",
    "For example, we might have a list of numbers that we want to print out.\n",
    "To do this, we would use something called a loop."
   ]
  },
  {
   "cell_type": "code",
   "execution_count": null,
   "metadata": {
    "collapsed": true
   },
   "outputs": [],
   "source": [
    "\n",
    "foo = [1,2,3,4,5,6,7,8,9,10]\n",
    "# we can use a \"for\" loop to go through each value in foo:\n",
    "for val in foo:     # for each value in foo\n",
    "    print(val)      # print the value\n",
    "\n",
    "# For each cycle in this loop, val will hold a different number, and we print that number.\n",
    "\n",
    "# We can also use a while loop, which is like a mix of a conditional and a loop:\n",
    "foo = 1\n",
    "while foo < 10:     # as long as x is less than 10\n",
    "    foo = foo + 1   # add 1 to x\n",
    "print(foo)           # in this case, x is equal to 10\n",
    "\n",
    "# Just like ifs, we can have loops inside of loops:\n",
    "foo = [[1,2],[3,4],[5,6]]   # foo is a list of lists\n",
    "for l in foo:               # for each list\n",
    "    for number in l:        # for each number in each list\n",
    "        print(number)       # print the number"
   ]
  },
  {
   "cell_type": "markdown",
   "metadata": {},
   "source": [
    "## Advanced Lists"
   ]
  },
  {
   "cell_type": "code",
   "execution_count": null,
   "metadata": {
    "collapsed": true
   },
   "outputs": [],
   "source": [
    "'''\n",
    "Now lets come back to lists.\n",
    "Lists are useful for many things, and we use them often in programming.\n",
    "'''\n",
    "# We can access specific item in a list using something called an index\n",
    "# For example if we wanted to get the first item in a list, we'd do this:\n",
    "\n",
    "foo = [1,2,3,4,5]\n",
    "first_item = foo[0]     # counting starts at 0, not 1.  Remember this!\n",
    "third_item = foo[2]\n",
    "\n",
    "# We can also access single items in lists of lists\n",
    "foo = [[1,2,3],[4,5,6],[7,8,9]]\n",
    "# Let's say we want to grab the number 4, we'd want the first item of the second list:\n",
    "four = foo[1][0]\n",
    "# We grab the second list (item at index 1), and from that list we grab the first number (item at index 0)"
   ]
  }
 ],
 "metadata": {
  "kernelspec": {
   "display_name": "Python 3",
   "language": "python",
   "name": "python3"
  },
  "language_info": {
   "codemirror_mode": {
    "name": "ipython",
    "version": 3
   },
   "file_extension": ".py",
   "mimetype": "text/x-python",
   "name": "python",
   "nbconvert_exporter": "python",
   "pygments_lexer": "ipython3",
   "version": "3.4.2"
  }
 },
 "nbformat": 4,
 "nbformat_minor": 0
}
