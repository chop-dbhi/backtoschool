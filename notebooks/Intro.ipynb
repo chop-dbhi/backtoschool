{
 "cells": [
  {
   "cell_type": "markdown",
   "metadata": {},
   "source": [
    "# Comments\n",
    "Any line in Python that starts with pound (#) sign will be ignored by the computer and can be used to comment on the surrounding code."
   ]
  },
  {
   "cell_type": "code",
   "execution_count": 1,
   "metadata": {
    "collapsed": true
   },
   "outputs": [],
   "source": [
    "# This is a comment. I can put anything I want here"
   ]
  },
  {
   "cell_type": "markdown",
   "metadata": {},
   "source": [
    "## Variables\n",
    "Variables are like containers that hold values.\n",
    "Values are things like numbers, words, lists of letters, etc.\n",
    " \n",
    "Lets look at numbers first."
   ]
  },
  {
   "cell_type": "code",
   "execution_count": null,
   "metadata": {
    "collapsed": true
   },
   "outputs": [],
   "source": [
    "# In Python, we can make a variable and give it a value pretty easily.\n",
    "# If we want a variable called 'foo' and want it to have a value of 1, we do:\n",
    "\n",
    "foo = 1\n",
    "\n",
    "# Or if we want to make foo a decimal, we do:\n",
    "\n",
    "foo = 1.5\n",
    "\n",
    "# with a period in the middle.\n",
    "\n",
    "# Create a variable called \"grade\" and put your current grade level in it\n"
   ]
  },
  {
   "cell_type": "markdown",
   "metadata": {},
   "source": [
    "### The print statement\n",
    "If we want to print the value of a variable, we can use the print() function. If we have a variable called `foo`\n",
    "    \n",
    "    print(foo)\n",
    "    \n",
    "Will print the value of `foo` to the screen."
   ]
  },
  {
   "cell_type": "code",
   "execution_count": 3,
   "metadata": {
    "collapsed": true
   },
   "outputs": [],
   "source": [
    "# Try printing the value of the \"grade\" variable you created above\n"
   ]
  },
  {
   "cell_type": "markdown",
   "metadata": {},
   "source": [
    "### Strings\n",
    "\n",
    "A variable in Python that contains a word is called a **string**"
   ]
  },
  {
   "cell_type": "code",
   "execution_count": null,
   "metadata": {
    "collapsed": true
   },
   "outputs": [],
   "source": [
    "# If we want our variable foo to be a word, we do this:\n",
    "\n",
    "foo = 'bar'\n",
    "\n",
    "# with single quotes around the word.\n",
    "\n",
    "# We can set variables equal to entire sentences.\n",
    "hello = 'Hello World!'\n",
    "print(hello)\n",
    "\n",
    "# Try creating a new variable called \"name\" and set it equal to your name\n"
   ]
  },
  {
   "cell_type": "markdown",
   "metadata": {},
   "source": [
    "## Operators\n",
    "\n",
    "We can perform different **operations** or calculations using variables"
   ]
  },
  {
   "cell_type": "code",
   "execution_count": 6,
   "metadata": {
    "collapsed": false
   },
   "outputs": [],
   "source": [
    "# For example if we have variables containing numbers:\n",
    "foo = 10.0\n",
    "bar = 5.0\n",
    "\n",
    "# we can add them:\n",
    "baz = foo + bar # baz equals 15.0\n",
    "\n",
    "# Or we can subtract them:\n",
    "baz = foo - bar     # baz equals 5.0\n",
    "\n",
    "# Or multiply them:\n",
    "baz = foo * bar     # baz equals 50.0\n",
    "\n",
    "# Or divide them\n",
    "baz = foo / bar     # baz equals 2.0\n",
    "\n",
    "# We can also add two strings together:\n",
    "foo = 'bar'\n",
    "baz = 'qux'\n",
    "norf = foo + baz    # norf equals 'barqux'"
   ]
  },
  {
   "cell_type": "markdown",
   "metadata": {},
   "source": [
    "In the above examples, + and - and / are called **operators**.\n",
    "\n",
    "Below create two new variables containing your first and last name "
   ]
  },
  {
   "cell_type": "code",
   "execution_count": null,
   "metadata": {
    "collapsed": true
   },
   "outputs": [],
   "source": [
    "# Put your two new variables here:\n",
    "\n",
    "\n",
    "\n",
    "# Then combine them into a new variable called \"full_name\" and print it.\n",
    "\n",
    "\n",
    "\n",
    "# Lastly, print out \"Hello World! My name is <YOUR FULL NAME>\"\n",
    "\n",
    "\n"
   ]
  },
  {
   "cell_type": "markdown",
   "metadata": {},
   "source": [
    "# If statements\n",
    "\n",
    "**If** statements help us make more complex programs by doing something only when something is *True*. \n",
    "\n",
    "\n",
    "An **if** statement is called a **conditional** statement because it will execute depending on a **condition**.\n",
    "\n",
    "Set the variable below to your lunch period:"
   ]
  },
  {
   "cell_type": "code",
   "execution_count": null,
   "metadata": {
    "collapsed": true
   },
   "outputs": [],
   "source": [
    "lunch_period = 1\n",
    "\n",
    "if lunch_period < 3:    # if lunch_period is less than 3\n",
    "    print(\"That is practically breakfast!\") \n",
    "else: # if not, do something else\n",
    "    print(\"That's more like it.\")"
   ]
  },
  {
   "cell_type": "markdown",
   "metadata": {},
   "source": [
    "#### Notice the print statement is indented. Indentation marks off a block of code to be executed in Python\n",
    "                                          \n",
    "    \n",
    "You can check for more than one **condition** using the **and** operator."
   ]
  },
  {
   "cell_type": "code",
   "execution_count": null,
   "metadata": {
    "collapsed": true
   },
   "outputs": [],
   "source": [
    "if lunch_period > 3 and lunch_period < 5:  \n",
    "    print(\"you eat lunch 4th period\")"
   ]
  },
  {
   "cell_type": "markdown",
   "metadata": {},
   "source": [
    "### Equals\n",
    "\n",
    "To test if a variable is equal to a value, use the **==** operator"
   ]
  },
  {
   "cell_type": "code",
   "execution_count": null,
   "metadata": {
    "collapsed": false
   },
   "outputs": [],
   "source": [
    "if lunch_period == 4:  \n",
    "    print(\"you eat lunch 4th period\")"
   ]
  },
  {
   "cell_type": "markdown",
   "metadata": {},
   "source": [
    "### Try this\n",
    "Create a series of if statments below that checks the value of the \"sides\" variable and prints out what shape it is (triangle, rectangle or pentagon)."
   ]
  },
  {
   "cell_type": "code",
   "execution_count": null,
   "metadata": {
    "collapsed": false
   },
   "outputs": [],
   "source": [
    "shape = input('Hi please enter the number of sides in your shape ')\n",
    "\n",
    "# Put your code here\n",
    "\n"
   ]
  },
  {
   "cell_type": "markdown",
   "metadata": {},
   "source": [
    "# Lists\n",
    "\n",
    "In Python, we can create lists of variables and values. You can put data into a list, each entry is at a position in the list called an **index**"
   ]
  },
  {
   "cell_type": "code",
   "execution_count": null,
   "metadata": {
    "collapsed": true
   },
   "outputs": [],
   "source": [
    "foo = [1, 2, 3, 'four']"
   ]
  },
  {
   "cell_type": "markdown",
   "metadata": {},
   "source": [
    "You can access a single value in a list by **indexing** into the list. A list in Python starts at 0. Try executing the code below"
   ]
  },
  {
   "cell_type": "code",
   "execution_count": null,
   "metadata": {
    "collapsed": true
   },
   "outputs": [],
   "source": [
    "print(foo[0])\n",
    "print(foo[3])"
   ]
  },
  {
   "cell_type": "markdown",
   "metadata": {},
   "source": [
    "## Loops\n",
    "\n",
    "\n",
    "Sometimes, we have a bunch of values we want to work with.\n",
    "For example, we might have a list of numbers that we want to print out.\n",
    "To do this, we would use something called a loop."
   ]
  },
  {
   "cell_type": "code",
   "execution_count": null,
   "metadata": {
    "collapsed": true
   },
   "outputs": [],
   "source": [
    "foo = [1,2,3,4,5,6,7,8,9,10]\n",
    "# we can use a \"for\" loop to go through each value in foo:\n",
    "for value in foo:     # for each value in foo\n",
    "    print(value)      # print the value\n",
    "    \n",
    "vegetables = [\"carrot\", \"shoes\", \"lettuce\", \"tomato\"]\n",
    "\n",
    "# Write a loop with an if statement in it \n",
    "# that prints out things that you don't want in your salad"
   ]
  },
  {
   "cell_type": "markdown",
   "metadata": {},
   "source": [
    "## Advanced Lists\n",
    "\n",
    "Now lets come back to lists.\n",
    "Lists are useful for many things, and we use them often in programming.\n",
    "\n",
    "We can save the value of a list at a certain index in a variable:"
   ]
  },
  {
   "cell_type": "code",
   "execution_count": 4,
   "metadata": {
    "collapsed": false
   },
   "outputs": [],
   "source": [
    "grammy_winners = [\"Bruno Mars\", \"Kendrick Lamar\", \"Ed Sheeran\", \"The Alabama Shakes\"]\n",
    "third_item = grammy_winners[2] # lists starts at 0, not 1.  Remember this!"
   ]
  },
  {
   "cell_type": "markdown",
   "metadata": {},
   "source": [
    "We can also have lists **of** lists!"
   ]
  },
  {
   "cell_type": "code",
   "execution_count": 5,
   "metadata": {
    "collapsed": true
   },
   "outputs": [],
   "source": [
    "foo = [[1,2,3],[4,5,6],[7,8,9]]\n",
    "# Let's say we want to grab the number 4, we'd want the first item of the second list:\n",
    "four = foo[1][0]\n",
    "# We grab the second list (item at index 1)\n",
    "# and from that list we grab the first number (item at index 0)\n",
    "\n",
    "# Find the number 9 in foo and print it out"
   ]
  }
 ],
 "metadata": {
  "kernelspec": {
   "display_name": "Python 3",
   "language": "python",
   "name": "python3"
  },
  "language_info": {
   "codemirror_mode": {
    "name": "ipython",
    "version": 3
   },
   "file_extension": ".py",
   "mimetype": "text/x-python",
   "name": "python",
   "nbconvert_exporter": "python",
   "pygments_lexer": "ipython3",
   "version": "3.4.2"
  }
 },
 "nbformat": 4,
 "nbformat_minor": 0
}
