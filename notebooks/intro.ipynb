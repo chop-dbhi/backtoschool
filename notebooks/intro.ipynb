{
 "cells": [
  {
   "cell_type": "code",
   "execution_count": null,
   "metadata": {
    "collapsed": true
   },
   "outputs": [],
   "source": [
    "'''\n",
    "First, we have variables.\n",
    "Variables are like containers that hold values.\n",
    "Values are things like numbers, words, lists of letters, etc.\n",
    "'''\n",
    "\n",
    "# In Python, we can make a variable and give it a value pretty easily.\n",
    "# If we want a variable called 'foo' and want it to have a value of 1, we do:\n",
    "\n",
    "foo = 1\n",
    "\n",
    "# Or if we want to make foo a decimal, we do:\n",
    "\n",
    "foo = 1.5\n",
    "\n",
    "# with a period in the middle.\n",
    "# If we want our variable foo to be a word, we do this:\n",
    "\n",
    "foo = 'bar'\n",
    "\n",
    "# with single quotes around the word.\n",
    "# We can also make lists of numbers or words by doing this:\n",
    "\n",
    "foo = [1,\"bar\",2,\"baz\",3]\n",
    "\n",
    "# with commas separating the values\n",
    "# You can even make a list of other lists:\n",
    "\n",
    "foo = [[1,2],[3,4],[5,6]]\n",
    "\n",
    "# Our variable foo can vary.  We can turn it into any value we want at any time:\n",
    "\n",
    "foo = 2.6\n",
    "foo = \"quux\"\n",
    "foo = [100,99,98,97,96]"
   ]
  },
  {
   "cell_type": "code",
   "execution_count": null,
   "metadata": {
    "collapsed": true
   },
   "outputs": [],
   "source": [
    "'''\n",
    "Whether a value is a number or a word or a list of other values is called its \"type\".\n",
    "The type of the number 5 is \"integer\".  The type of 'bar' is called \"string\".\n",
    "The type of [1,2,3,4,5] is called \"list\".\n",
    "Depending on the type of a variable or a set of variables, we can do different things:\n",
    "'''\n",
    "\n",
    "# For example If we have two numbers, we can add them:\n",
    "foo = 10.0\n",
    "bar = 5.0\n",
    "baz = foo + bar     # baz equals 10.0\n",
    "\n",
    "# Or we can subtract them:\n",
    "baz = foo - bar     # baz equals 5.0\n",
    "\n",
    "# Or multiply them:\n",
    "baz = foo * bar     # baz equals 50.0\n",
    "\n",
    "# Or divide them\n",
    "baz = foo / bar     # baz equals 2.0\n",
    "\n",
    "# We can also add two strings together:\n",
    "foo = 'bar'\n",
    "baz = 'qux'\n",
    "norf = foo + baz    # norf equals 'barqux'\n",
    "\n",
    "# We can also add two lists together:\n",
    "foo = [1,2,3]\n",
    "bar = ['foo', 'baz', 'qux']\n",
    "baz = foo + bar     # baz equals [1,2,3,'foo','baz','qux']\n",
    "\n",
    "# In these examples, + and - and / are called operators.\n",
    "# Operators take values and turn them into something else."
   ]
  },
  {
   "cell_type": "code",
   "execution_count": null,
   "metadata": {
    "collapsed": true
   },
   "outputs": [],
   "source": [
    "'''\n",
    "Most of the time we want to do more than just add and subtract numbers.\n",
    "In Python, we have a bunch of tools to help us write programs\n",
    "'''\n",
    "\n",
    "'''\n",
    "First, we have things called \"conditional statements\".\n",
    "Conditional statements tell our program to do different depending on a condition.\n",
    "'''\n",
    "\n",
    "# For example, we could do something like this:\n",
    "import random\n",
    "foo = random.random()   # set foo to a random number\n",
    "if foo < 10:    # if foo is less than 10\n",
    "    print(\"foo is less than 10\")\n",
    "else: # if not, do something else\n",
    "    print(\"foo is greater than 10\")\n",
    "\n",
    "# Or we can check for more than 2 conditions:\n",
    "foo = random.random()\n",
    "if foo < 10:    # if foo is less than 10\n",
    "    print(\"foo is less than 10\")\n",
    "elif foo > 10 and foo < 20:     # or if foo is between 10 and 20\n",
    "    print(\"foo is between 10 and 20\")\n",
    "else:   # otherwise, do something else\n",
    "    print(\"foo is greater than 20\")\n",
    "\n",
    "# We can even have ifs inside of ifs:\n",
    "foo = random.random()\n",
    "if foo < 10:\n",
    "    if foo > 5:\n",
    "        print(\"foo is between 5 and 10\")"
   ]
  },
  {
   "cell_type": "code",
   "execution_count": null,
   "metadata": {
    "collapsed": true
   },
   "outputs": [],
   "source": [
    "'''\n",
    "Sometimes, we have a bunch of values we want to work with.\n",
    "For example, we might have a list of numbers that we want to print out.\n",
    "To do this, we would use something called a loop.\n",
    "'''\n",
    "\n",
    "foo = [1,2,3,4,5,6,7,8,9,10]\n",
    "# we can use a \"for\" loop to go through each value in foo:\n",
    "for val in foo:     # for each value in foo\n",
    "    print(val)      # print the value\n",
    "\n",
    "# For each cycle in this loop, val will hold a different number, and we print that number.\n",
    "\n",
    "# We can also use a while loop, which is like a mix of a conditional and a loop:\n",
    "foo = 1\n",
    "while foo < 10:     # as long as x is less than 10\n",
    "    foo = foo + 1   # add 1 to x\n",
    "print(foo)           # in this case, x is equal to 10\n",
    "\n",
    "# Just like ifs, we can have loops inside of loops:\n",
    "foo = [[1,2],[3,4],[5,6]]   # foo is a list of lists\n",
    "for l in foo:               # for each list\n",
    "    for number in l:        # for each number in each list\n",
    "        print(number)       # print the number"
   ]
  },
  {
   "cell_type": "code",
   "execution_count": null,
   "metadata": {
    "collapsed": true
   },
   "outputs": [],
   "source": [
    "'''\n",
    "Now lets come back to lists.\n",
    "Lists are useful for many things, and we use them often in programming.\n",
    "'''\n",
    "# We can access specific item in a list using something called an index\n",
    "# For example if we wanted to get the first item in a list, we'd do this:\n",
    "\n",
    "foo = [1,2,3,4,5]\n",
    "first_item = foo[0]     # counting starts at 0, not 1.  Remember this!\n",
    "third_item = foo[2]\n",
    "\n",
    "# We can also access single items in lists of lists\n",
    "foo = [[1,2,3],[4,5,6],[7,8,9]]\n",
    "# Let's say we want to grab the number 4, we'd want the first item of the second list:\n",
    "four = foo[1][0]\n",
    "# We grab the second list (item at index 1), and from that list we grab the first number (item at index 0)"
   ]
  }
 ],
 "metadata": {
  "kernelspec": {
   "display_name": "Python 2",
   "language": "python",
   "name": "python2"
  },
  "language_info": {
   "codemirror_mode": {
    "name": "ipython",
    "version": 2
   },
   "file_extension": ".py",
   "mimetype": "text/x-python",
   "name": "python",
   "nbconvert_exporter": "python",
   "pygments_lexer": "ipython2",
   "version": "2.7.10"
  }
 },
 "nbformat": 4,
 "nbformat_minor": 0
}
