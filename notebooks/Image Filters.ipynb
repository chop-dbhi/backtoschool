{
 "cells": [
  {
   "cell_type": "code",
   "execution_count": 2,
   "metadata": {
    "collapsed": false,
    "scrolled": false
   },
   "outputs": [],
   "source": [
    "from PIL import Image\n",
    "flower = Image.open('images/flower.jpg')\n",
    "cat = Image.open('images/cat.jpg')\n",
    "xray = Image.open('images/xray.png')\n",
    "\n",
    "def get_pixels(original):\n",
    "    image = original.copy()\n",
    "    def update(data):\n",
    "        image.putdata(data)\n",
    "        return image\n",
    "    return list(image.getdata()), update"
   ]
  },
  {
   "cell_type": "markdown",
   "metadata": {
    "collapsed": false
   },
   "source": [
    "# Image Filters\n",
    "\n",
    "At its core an image is really just a **list of lists**.\n",
    "  \n",
    "Each **pixel** in the image is a list with 3 integers in it, each representing how much Red, Green, and Blue is in the pixel.\n",
    "\n",
    "Each integer can be from 0 to 255. 0 means none of the color and 255 is the maximum of the color.\n",
    "\n",
    "So the following **list of lists** is a very simple image with three pixels, Red, Green, and Black:\n",
    "\n",
    "    [[255, 0, 0], [0, 255, 0], [0, 0 ,0]]\n",
    "        Red          Green       Black\n",
    "\n",
    "Let's start with a picture of a cat\n",
    "\n",
    "![](images/cat.jpg)"
   ]
  },
  {
   "cell_type": "markdown",
   "metadata": {},
   "source": [
    "## Black and White Filter\n",
    "\n",
    "In a Black and White image, each pixel has the same value for Red, Green, and Blue.\n",
    "\n",
    "But what is that value?\n",
    "\n",
    "Red = Green = Blue = ?\n",
    "\n",
    "The easiest method of calculating the new value is to average the old values:\n",
    "\n",
    "newRed = newGreen = newBlue = (oldRed + oldGreen + oldBlue) / 3\n",
    "    \n",
    "**Note:** we need to make sure that the new values are integers!"
   ]
  },
  {
   "cell_type": "code",
   "execution_count": null,
   "metadata": {
    "collapsed": false
   },
   "outputs": [],
   "source": [
    "pixels, set_pixels = get_pixels(cat)\n",
    "new_pixels = []\n",
    "\n",
    "# Begin your filter code here\n",
    "for pixel in pixels:\n",
    "    average = int((pixel[0] + pixel[1]+ pixel[2]) / 3)  # \"int()\" is a function\n",
    "                                                        #  that returns an integer \n",
    "    new_pixels.append((average, average, average))    \n",
    "\n",
    "# End your filter code here\n",
    "set_pixels(new_pixels)"
   ]
  },
  {
   "cell_type": "markdown",
   "metadata": {},
   "source": [
    "## Try something else\n",
    "\n",
    "Now that you know how to convert an image to B&W, try something new!\n",
    "Try changing the output values.\n",
    "\n",
    "For example, If you increase the red value, new_pixel[0], you can make the image red-and-white instead of black-and-white!\n",
    "\n",
    "But remember that each color value cannot be bigger than 255.\n",
    "\n",
    "To make sure that a number is not bigger than 255, you can use the min function, for example:\n",
    "\n",
    "    newNumber = min(number, 255)\n",
    "\n"
   ]
  },
  {
   "cell_type": "code",
   "execution_count": null,
   "metadata": {
    "collapsed": false
   },
   "outputs": [],
   "source": [
    "pixels, set_pixels = get_pixels(cat)\n",
    "new_pixels = []\n",
    "\n",
    "# Begin your filter code here\n",
    "for pixel in pixels:\n",
    "\n",
    "    average = int((pixel[0] + pixel[1]+ pixel[2]) / 3)\n",
    "    \n",
    "    new_red = min(average*2, 255)\n",
    "    new_green = average\n",
    "    new_blue = average\n",
    "    \n",
    "    new_pixels.append((new_red, new_green, new_blue))    \n",
    "\n",
    "# End your filter code here\n",
    "\n",
    "set_pixels(new_pixels)"
   ]
  },
  {
   "cell_type": "markdown",
   "metadata": {},
   "source": [
    "## Sepia Filter\n",
    "\n",
    "Formula for the Sepia filter:\n",
    "\n",
    "     outputRed = inputRed * 0.393 + inputGreen * 0.769 + inputBlue * 0.189\n",
    "\n",
    "     outputGreen = inputRed * 0.349 + inputGreen * 0.686 + inputBlue * 0.168\n",
    "\n",
    "     outputBlue = inputRed * 0.272 + inputGreen * 0.534 + inputBlue * 0.131\n",
    "\n",
    "\n",
    "\n",
    "\n",
    "Remember that each color value cannot be bigger than 255!\n",
    "\n",
    "To make sure that a number is not bigger than 255, you can use the min function, for example:\n",
    "newNumber = min(number, 255)\n",
    "\n",
    "### Let's apply the Sepia Filter to an image of a flower\n",
    "![](images/flower.jpg)\n",
    "\n",
    "(source: http://www.techrepublic.com/blog/how-do-i/how-do-i-convert-images-to-grayscale-and-sepia-tone-using-c/)"
   ]
  },
  {
   "cell_type": "code",
   "execution_count": null,
   "metadata": {
    "collapsed": false
   },
   "outputs": [],
   "source": [
    "pixels, set_pixels = get_pixels(flower)\n",
    "new_pixels = []\n",
    "\n",
    "# Begin your filter code here\n",
    "for pixel in pixels:\n",
    "    \n",
    "    new_red = min(255, int(pixel[0]*0.393 + pixel[1]*0.769 + pixel[2]*0.181))\n",
    "    new_green = min(255, int(pixel[0]*0.349 + pixel[1]*0.686 + pixel[2]*0.168))\n",
    "    new_blue = min(255, int(pixel[0]*0.272 + pixel[1]*0.534 + pixel[2]*0.131))\n",
    "    \n",
    "    new_pixels.append((new_red, new_green, new_blue))    \n",
    "\n",
    "# End your filter code here\n",
    "\n",
    "set_pixels(new_pixels)"
   ]
  },
  {
   "cell_type": "markdown",
   "metadata": {},
   "source": [
    "# Help find the Pin!\n",
    "\n",
    "In the X-ray of the hand below there is a white pin holding the wrist together.\n",
    "![](images/xray.png)\n",
    "\n",
    "Using the tools you have learned, help locate the pin by turning it red."
   ]
  },
  {
   "cell_type": "code",
   "execution_count": null,
   "metadata": {
    "collapsed": false
   },
   "outputs": [],
   "source": [
    "pixels, set_pixels = get_pixels(xray)\n",
    "new_pixels = []\n",
    "\n",
    "# Begin your filter code here\n",
    "red_pixel = (255, 0, 0)\n",
    "\n",
    "for pixel in pixels:\n",
    "    new_pixels.append(pixel)\n",
    "\n",
    "# End your filter code here\n",
    "\n",
    "set_pixels(new_pixels)"
   ]
  }
 ],
 "metadata": {
  "hide_input": false,
  "kernelspec": {
   "display_name": "Python 3",
   "language": "python",
   "name": "python3"
  },
  "language_info": {
   "codemirror_mode": {
    "name": "ipython",
    "version": 3
   },
   "file_extension": ".py",
   "mimetype": "text/x-python",
   "name": "python",
   "nbconvert_exporter": "python",
   "pygments_lexer": "ipython3",
   "version": "3.5.0"
  }
 },
 "nbformat": 4,
 "nbformat_minor": 0
}
