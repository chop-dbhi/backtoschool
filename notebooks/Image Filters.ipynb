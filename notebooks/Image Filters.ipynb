{
 "cells": [
  {
   "cell_type": "code",
   "execution_count": 1,
   "metadata": {
    "collapsed": false,
    "scrolled": false
   },
   "outputs": [],
   "source": [
    "from PIL import Image\n",
    "flower = Image.open('images/default.jpg')\n",
    "cat1 = Image.open('images/cats/cat1.jpg')\n",
    "cat2 = Image.open('images/cats/cat2.jpg')\n",
    "xray = Image.open('images/xrays/lateral.png')\n",
    "\n",
    "def get_pixels(original):\n",
    "    image = original.copy()\n",
    "    def update(data):\n",
    "        image.putdata(data)\n",
    "        return image\n",
    "    return list(image.getdata()), update"
   ]
  },
  {
   "cell_type": "code",
   "execution_count": null,
   "metadata": {
    "collapsed": false
   },
   "outputs": [],
   "source": [
    "pixels, set_pixels = get_pixels(xray)\n",
    "\n",
    "# Begin your filter code here\n",
    "new_pixels = []\n",
    "for pixel in pixels:\n",
    "    if pixel[0] == 100:\n",
    "        new_pixels.append((255,0,0))\n",
    "    else:\n",
    "        new_pixels.append(pixel)\n",
    "# End your filter code here\n",
    "\n",
    "set_pixels(new_pixels)"
   ]
  }
 ],
 "metadata": {
  "hide_input": false,
  "kernelspec": {
   "display_name": "Python 3",
   "language": "python",
   "name": "python3"
  },
  "language_info": {
   "codemirror_mode": {
    "name": "ipython",
    "version": 3
   },
   "file_extension": ".py",
   "mimetype": "text/x-python",
   "name": "python",
   "nbconvert_exporter": "python",
   "pygments_lexer": "ipython3",
   "version": "3.5.0"
  }
 },
 "nbformat": 4,
 "nbformat_minor": 0
}
